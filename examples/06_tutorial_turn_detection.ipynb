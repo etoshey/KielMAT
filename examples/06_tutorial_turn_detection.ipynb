{
 "cells": [
  {
   "cell_type": "markdown",
   "metadata": {},
   "source": [
    "# Tutorial: turn detection\n",
    "\n",
    "**Author:** Masoud Abedinifar\n",
    "\n",
    "**Last update:** Tue 19 Mar. 2024\n",
    "\n",
    "## Learning Objectives\n",
    "By the end of this tutorial:\n",
    "- You can load data from a recording that belongs to one of the available datasets,\n",
    "- Apply the Pham Turn Detection algorithm.\n",
    "- Visualize the results of the algorithm.  \n",
    "- Interpret the detected turns for further analysis."
   ]
  },
  {
   "cell_type": "markdown",
   "metadata": {},
   "source": [
    "# Pham Turn Detection\n",
    "\n",
    "This example can be referenced by citing the package.\n",
    "\n",
    "The example illustrates how to use PhamTurnDetection algorithm to detect turns using acceleration and gyro data recorded with a lower back IMU sensor. The turn detection algorithm is implemented using [`ngmt.modules.td._pham`](https://github.com/neurogeriatricskiel/NGMT/tree/main/ngmt/modules/td/_pham.py). This algorithm is based on the research of Pham et al [`1`].\n",
    "\n",
    "Describe functionality of the algorithm here...\n",
    "\n",
    "If requested (plot_results set to True), it generates plots of the accelerometer and gyroscope data along with the detected turns.\n",
    "\n",
    "#### References\n",
    "[`1`] Pham et al. (2017). Algorithm for Turning Detection and Analysis Validated under Home-Like Conditions in Patients with Parkinson's Disease and Older Adults using a 6 Degree-of-Freedom Inertial Measurement Unit at the Lower Back. Frontiers in Neurology, 8, 135. https://doi.org/10.3389/fneur.2017.00135"
   ]
  },
  {
   "cell_type": "markdown",
   "metadata": {},
   "source": [
    "## Import Libraries\n",
    "The necessary libraries such as numpy, matplotlib.pyplot, dataset and PhamTurnDetection turn detection algortihm are imported. Make sure that you have all the required libraries and modules installed before running this code. You also may need to install the 'ngmt' library and its dependencies if you haven't already."
   ]
  },
  {
   "cell_type": "code",
   "execution_count": 1,
   "metadata": {},
   "outputs": [],
   "source": [
    "import numpy as np\n",
    "import pandas as pd\n",
    "import matplotlib.pyplot as plt\n",
    "from ngmt.datasets import keepcontrol\n",
    "from ngmt.modules.ssd import PhamTurnDetection"
   ]
  },
  {
   "cell_type": "markdown",
   "metadata": {},
   "source": [
    "## Data Preparation\n",
    "\n",
    "To implement Pham Turn Detection algorithm, we load example data.\n"
   ]
  },
  {
   "cell_type": "code",
   "execution_count": 2,
   "metadata": {},
   "outputs": [],
   "source": [
    "# The 'file_path' variable holds the absolute path to the data file\n",
    "file_path = (\n",
    "    r\"\"\n",
    ")"
   ]
  },
  {
   "cell_type": "code",
   "execution_count": 3,
   "metadata": {},
   "outputs": [],
   "source": [
    "# In this example, we use \"imu\" as tracking_system and \"pelvis\" as tracked points.\n",
    "tracking_sys = \"imu\"\n",
    "tracked_points = {tracking_sys: [\"pelvis\"]}"
   ]
  },
  {
   "cell_type": "code",
   "execution_count": 4,
   "metadata": {},
   "outputs": [],
   "source": [
    "# The 'keepcontrol.load_recording' function is used to load the data from the specified file_path\n",
    "recording = keepcontrol.load_recording(\n",
    "    file_name=file_path, tracking_systems=[tracking_sys], tracked_points=tracked_points\n",
    ")"
   ]
  },
  {
   "cell_type": "code",
   "execution_count": null,
   "metadata": {},
   "outputs": [],
   "source": [
    "# Load lower back acceleration data\n",
    "acceleration_data = recording.data[tracking_sys][\n",
    "    [\"pelvis_ACC_x\", \"pelvis_ACC_y\", \"pelvis_ACC_z\"]\n",
    "]\n",
    "\n",
    "# Print acceleration data\n",
    "print(f\"acceleration_data (g): {acceleration_data}\")"
   ]
  },
  {
   "cell_type": "code",
   "execution_count": null,
   "metadata": {},
   "outputs": [],
   "source": [
    "# Load lower back gyro data\n",
    "gyro_data = recording.data[tracking_sys][\n",
    "    [\"pelvis_ANGVEL_x\", \"pelvis_ANGVEL_y\", \"pelvis_ANGVEL_z\"]\n",
    "]\n",
    "\n",
    "# Print gyro data\n",
    "print(f\"gyro_data (deg/s): {gyro_data}\")"
   ]
  },
  {
   "cell_type": "code",
   "execution_count": null,
   "metadata": {},
   "outputs": [],
   "source": [
    "# Get the corresponding sampling frequency directly from the recording\n",
    "sampling_frequency = recording.channels[tracking_sys][\n",
    "    recording.channels[tracking_sys][\"name\"] == \"pelvis_ACC_x\"\n",
    "][\"sampling_frequency\"].values[0]\n",
    "\n",
    "# Print sampling frequency\n",
    "print(f\"sampling frequency: {sampling_frequency} Hz\")"
   ]
  },
  {
   "cell_type": "markdown",
   "metadata": {},
   "source": [
    "## Visualisation of the Data\n",
    "The raw acceleration and gyro data including components of x, y and z axis are plotted."
   ]
  },
  {
   "cell_type": "code",
   "execution_count": null,
   "metadata": {},
   "outputs": [],
   "source": [
    "# Plot acceleration and gyro in subplots\n",
    "fig = plt.figure(figsize=(21, 10))\n",
    "\n",
    "# Subplot 1: Acceleration data\n",
    "ax1 = plt.subplot(211)\n",
    "for i in range(3):\n",
    "    ax1.plot(\n",
    "        np.arange(len(acceleration_data)) / sampling_frequency,\n",
    "        acceleration_data[f\"pelvis_ACC_{chr(120 + i)}\"],\n",
    "        label=f\"Acc {'xyz'[i]}\",\n",
    "    )\n",
    "ax1.set_title(\"Lower back acceleration data\")\n",
    "ax1.set_ylabel(f\"Acceleration (g)\", fontsize=12)\n",
    "ax1.set_xlabel(f\"Time (sec)\", fontsize=12)\n",
    "ax1.legend(loc=\"upper right\", fontsize=12)\n",
    "ax1.set_ylim(-2, 2.5)\n",
    "plt.xticks(fontsize=14)\n",
    "plt.yticks(fontsize=14)\n",
    "\n",
    "# Subplot 2: Gyro data\n",
    "ax2 = plt.subplot(212)\n",
    "for i in range(3):\n",
    "    ax2.plot(\n",
    "        np.arange(len(gyro_data)) / sampling_frequency,\n",
    "        gyro_data[f\"pelvis_ANGVEL_{chr(120 + i)}\"],\n",
    "        label=f\"Gyr {'xyz'[i]}\",\n",
    "    )\n",
    "ax2.set_title(\"Lower back gyro data\")\n",
    "ax2.set_ylabel(f\"Gyro (deg/s)\", fontsize=12)\n",
    "ax2.set_xlabel(f\"Time (sec)\", fontsize=12)\n",
    "ax2.legend(loc=\"upper right\", fontsize=12)\n",
    "ax2.set_ylim(-200, 200)\n",
    "plt.xticks(fontsize=14)\n",
    "plt.yticks(fontsize=14)\n",
    "fig.tight_layout()\n",
    "plt.show()\n"
   ]
  },
  {
   "cell_type": "markdown",
   "metadata": {},
   "source": [
    "## Applying Pham Turn Detection Algorithm\n",
    "Now, we are running Pham turn detection algorithm from pham module [`NGMT.ngmt.modules.td._pham.PhamTurnDetection`](https://github.com/neurogeriatricskiel/NGMT/tree/main/ngmt/modules/td/_pham.py) to detect turns.\n",
    "\n",
    "The following code first prepares the input data by combining acceleration and gyro data into a single DataFrame called `input_data`.\n",
    "\n",
    "Then, in order to apply turn detection algorithm, an instance of the PhamTurnDetection class is created using the constructor, `PhamTurnDetection()`. The `pham` variable holds this instance, allowing us to access its methods. The inputs of the algorithm are as follows:\n",
    "\n",
    "- **Input Data:** `data` Includes accelerometer and gyro data (N, 6) for x, y, and z axes. in pandas Dataframe format.\n",
    "- **Sampling Frequency:** `sampling_freq_Hz` is the sampling frequency of the data, defined in Hz.\n",
    "- **Plot Results:** `plot_results`, if set to True, generates a plot showing the detected turns on the data. The default is False. The onset is represented with the vertical red line and the grey area represents the duration of the turns detected by the algorithm."
   ]
  },
  {
   "cell_type": "code",
   "execution_count": null,
   "metadata": {},
   "outputs": [],
   "source": [
    "# Put acceleration and gyro data in the input data as pandas Dataframe which will be used as input of the algorithm\n",
    "input_data = [acceleration_data, gyro_data]\n",
    "\n",
    "# Concatenate acceleration_data and gyro_data along axis=1 (columns)\n",
    "input_data = pd.concat([acceleration_data, gyro_data], axis=1)\n",
    "\n",
    "# Create an instance of the PhamTurnDetection class\n",
    "pham = PhamTurnDetection()\n",
    "\n",
    "# Call the turn detection using pham.detect\n",
    "pham = pham.detect(\n",
    "    data=input_data, sampling_freq_Hz=sampling_frequency, plot_results= True\n",
    ")"
   ]
  },
  {
   "cell_type": "markdown",
   "metadata": {},
   "source": [
    "The outputs are stored in the 'detected_turns' attribute, which is a pandas DataFrame in BIDS format with the following columns:\n",
    "\n",
    "- **onset**: Start of the turn event in seconds.\n",
    "- **duration**: Duration of the turn event in seconds.\n",
    "- **tracking_systems**: Tracking system which is 'imu' for this example.\n",
    "- **tracked_points**: Tracked points on the body which is 'LowerBack' for this example."
   ]
  },
  {
   "cell_type": "code",
   "execution_count": null,
   "metadata": {},
   "outputs": [],
   "source": [
    "# Print events and their corresponding information\n",
    "print(f\"turn_events: {pham.postural_transitions_}\")"
   ]
  },
  {
   "cell_type": "markdown",
   "metadata": {},
   "source": [
    "## Detailed Visualization of the Detected Turns\n",
    "\n",
    "To get a better understanding of the results, we can plot the data and the first detected turn. The red vertical line shows the onset and the grey area shows the duration of the first turn."
   ]
  },
  {
   "cell_type": "code",
   "execution_count": null,
   "metadata": {},
   "outputs": [],
   "source": [
    "# Figure \n",
    "fig = plt.figure(figsize=(21, 10))\n",
    "\n",
    "# Subplot 1: Acceleration data\n",
    "ax1 = plt.subplot(211)\n",
    "for i in range(3):\n",
    "    ax1.plot(\n",
    "        np.arange(len(acceleration_data)) / sampling_frequency,\n",
    "        acceleration_data[f\"pelvis_ACC_{chr(120 + i)}\"],\n",
    "    )\n",
    "for i in range(len(pham.postural_transitions_)):\n",
    "    onset = pham.postural_transitions_['onset'][0]\n",
    "    duration = pham.postural_transitions_['duration'][0]\n",
    "    ax1.axvline(x=onset, color='r')\n",
    "    ax1.axvspan(onset, (onset + duration), color='grey')\n",
    "ax1.set_title(\"Detected Turns\", fontsize=20)\n",
    "ax1.set_ylabel(f\"Acceleration (g)\", fontsize=14)\n",
    "ax1.set_xlabel(f\"Time (sec)\", fontsize=14)\n",
    "ax1.legend([\"Acc x\", \"Acc y\", \"Acc z\", \"Turn oset\", \"Turn duration\"], loc=\"upper right\", fontsize=14)\n",
    "ax1.set_ylim(-1, 2)\n",
    "start_limit = pham.postural_transitions_[\"onset\"][0] - 10\n",
    "end_limit = pham.postural_transitions_[\"onset\"][0] + pham.postural_transitions_[\"duration\"][0] + 10\n",
    "ax1.set_xlim(start_limit, end_limit)\n",
    "plt.xticks(fontsize=14)\n",
    "plt.yticks(fontsize=14)\n",
    "\n",
    "# Subplot 2: Gyro data\n",
    "ax2 = plt.subplot(212)\n",
    "for i in range(3):\n",
    "    ax2.plot(\n",
    "        np.arange(len(gyro_data)) / sampling_frequency,\n",
    "        gyro_data[f\"pelvis_ANGVEL_{chr(120 + i)}\"],\n",
    "    )\n",
    "for i in range(len(pham.postural_transitions_)):\n",
    "    onset = pham.postural_transitions_['onset'][0]\n",
    "    duration = pham.postural_transitions_['duration'][0]\n",
    "    ax2.axvline(x=onset, color='r')\n",
    "    ax2.axvspan(onset, (onset + duration), color='grey')\n",
    "ax1.set_title(\"Detected Turns\", fontsize=20)\n",
    "ax2.set_ylabel(f\"Gyro (deg/s)\", fontsize=14)\n",
    "ax2.set_xlabel(f\"Time (sec)\", fontsize=14)\n",
    "start_limit = pham.postural_transitions_[\"onset\"][0] - 10\n",
    "end_limit = pham.postural_transitions_[\"onset\"][0] + pham.postural_transitions_[\"duration\"][0] + 10\n",
    "ax2.set_xlim(start_limit, end_limit)\n",
    "ax2.legend([\"Gyr x\", \"Gyr y\", \"Gyr z\", \"Turn onset\", \"Turn duration\"], loc=\"upper right\", fontsize=14)\n",
    "ax2.set_ylim(-200, 200)\n",
    "plt.xticks(fontsize=14)\n",
    "plt.yticks(fontsize=14)\n",
    "fig.tight_layout()\n",
    "plt.show()"
   ]
  }
 ],
 "metadata": {
  "kernelspec": {
   "display_name": "venv_ngmt",
   "language": "python",
   "name": "python3"
  },
  "language_info": {
   "codemirror_mode": {
    "name": "ipython",
    "version": 3
   },
   "file_extension": ".py",
   "mimetype": "text/x-python",
   "name": "python",
   "nbconvert_exporter": "python",
   "pygments_lexer": "ipython3",
   "version": "3.11.4"
  }
 },
 "nbformat": 4,
 "nbformat_minor": 2
}
