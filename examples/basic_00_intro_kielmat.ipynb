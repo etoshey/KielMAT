{
 "cells": [
  {
   "cell_type": "markdown",
   "metadata": {},
   "source": [
    "# Tutorial: the basics of KielMAT\n",
    "\n",
    "**Author:** Robbin Romijnders  \n",
    "**Last update:** Tue 16 Jan 2024\n",
    "\n",
    "## Learning objectives\n",
    "By the end of this tutorial:\n",
    "- you can load data from a recording that belongs to one of the available datasets,\n",
    "- you know which attributes are available for an instance of the `KielMATRecording`\n",
    "- you can do some basic selecting and slicing of data"
   ]
  },
  {
   "cell_type": "markdown",
   "metadata": {},
   "source": [
    "## Imports\n",
    "\n",
    "We start by importing some Python libraries. You should be familiar with most of them, and we will not discuss them here."
   ]
  },
  {
   "cell_type": "code",
   "execution_count": 4,
   "metadata": {},
   "outputs": [],
   "source": [
    "import numpy as np\n",
    "import matplotlib.pyplot as plt\n",
    "import os\n",
    "from pathlib import Path\n",
    "from kielmat.datasets import mobilised"
   ]
  },
  {
   "cell_type": "markdown",
   "metadata": {},
   "source": [
    "## Import data"
   ]
  },
  {
   "cell_type": "markdown",
   "metadata": {},
   "source": [
    "Let us consider a single recording, namely of the randomly selected subject `sub-3011` from the `Mobilise-D` dataset, and load the data. For that we use the `load_recording()` function that is available in the `kielmat.datasets.mobilised` module."
   ]
  },
  {
   "cell_type": "code",
   "execution_count": 5,
   "metadata": {},
   "outputs": [],
   "source": [
    "# load the data\n",
    "recording = mobilised.load_recording()"
   ]
  },
  {
   "cell_type": "markdown",
   "metadata": {},
   "source": [
    "We have loaded the data for two tracking systems, `SU` and `SU_INDIP`, and we have specified three tracked points. The data is assigned to the variable `recording`, so let us take a look at what we have got."
   ]
  },
  {
   "cell_type": "code",
   "execution_count": 6,
   "metadata": {},
   "outputs": [
    {
     "data": {
      "text/plain": [
       "{'data': {'SU':         LowerBack_ACCEL_x  LowerBack_ACCEL_y  LowerBack_ACCEL_z  \\\n",
       "  0                0.933334           0.084820          -0.302665   \n",
       "  1                0.932675           0.084844          -0.300591   \n",
       "  2                0.932350           0.082886          -0.310576   \n",
       "  3                0.929716           0.081786          -0.303551   \n",
       "  4                0.932825           0.077879          -0.308859   \n",
       "  ...                   ...                ...                ...   \n",
       "  693471          -0.192553          -0.016052          -0.984290   \n",
       "  693472          -0.189575          -0.016449          -0.988130   \n",
       "  693473          -0.191176          -0.017954          -0.983820   \n",
       "  693474          -0.189691          -0.014539          -0.986376   \n",
       "  693475          -0.192993          -0.015306          -0.989452   \n",
       "  \n",
       "          LowerBack_GYRO_x  LowerBack_GYRO_y  LowerBack_GYRO_z  \\\n",
       "  0               5.600066          1.120697          0.489152   \n",
       "  1               5.440734          1.401663          0.279477   \n",
       "  2               5.196312          1.168802          0.435765   \n",
       "  3               5.553083          1.116346          0.383447   \n",
       "  4               5.437505          0.892803         -0.150115   \n",
       "  ...                  ...               ...               ...   \n",
       "  693471         -0.225874          0.832856          0.704711   \n",
       "  693472         -0.393438          0.598116          0.522755   \n",
       "  693473         -0.430749          0.417541          0.282336   \n",
       "  693474         -0.279277          0.559122          0.418693   \n",
       "  693475         -0.563741          0.478618          0.411295   \n",
       "  \n",
       "          LowerBack_MAGN_x  LowerBack_MAGN_y  LowerBack_MAGN_z  \\\n",
       "  0             -93.972011        -25.023998         44.675028   \n",
       "  1             -93.958012        -25.016007         44.610055   \n",
       "  2             -93.946010        -25.000014         44.520078   \n",
       "  3             -93.938007        -24.980018         44.411097   \n",
       "  4             -93.935003        -24.957021         44.287113   \n",
       "  ...                  ...               ...               ...   \n",
       "  693471        -50.718928        -36.997006         34.111960   \n",
       "  693472        -50.649929        -37.003005         34.072972   \n",
       "  693473        -50.579936        -37.008003         34.044986   \n",
       "  693474        -50.515946        -37.011000         34.031004   \n",
       "  693475        -50.460961        -37.010996         34.035025   \n",
       "  \n",
       "          LowerBack_BARO_n/a  \n",
       "  0               990.394600  \n",
       "  1               990.395100  \n",
       "  2               990.395600  \n",
       "  3               990.396199  \n",
       "  4               990.396700  \n",
       "  ...                    ...  \n",
       "  693471          990.204600  \n",
       "  693472          990.204900  \n",
       "  693473          990.205200  \n",
       "  693474          990.205500  \n",
       "  693475          990.205800  \n",
       "  \n",
       "  [693476 rows x 10 columns]},\n",
       " 'channels': {'SU':                  name component   type tracked_point  units  \\\n",
       "  0   LowerBack_ACCEL_x         x  ACCEL     LowerBack      g   \n",
       "  1   LowerBack_ACCEL_y         y  ACCEL     LowerBack      g   \n",
       "  2   LowerBack_ACCEL_z         z  ACCEL     LowerBack      g   \n",
       "  3    LowerBack_GYRO_x         x   GYRO     LowerBack  deg/s   \n",
       "  4    LowerBack_GYRO_y         y   GYRO     LowerBack  deg/s   \n",
       "  5    LowerBack_GYRO_z         z   GYRO     LowerBack  deg/s   \n",
       "  6    LowerBack_MAGN_x         x   MAGN     LowerBack     µT   \n",
       "  7    LowerBack_MAGN_y         y   MAGN     LowerBack     µT   \n",
       "  8    LowerBack_MAGN_z         z   MAGN     LowerBack     µT   \n",
       "  9  LowerBack_BARO_n/a       n/a   BARO     LowerBack    hPa   \n",
       "  \n",
       "     sampling_frequency  \n",
       "  0               100.0  \n",
       "  1               100.0  \n",
       "  2               100.0  \n",
       "  3               100.0  \n",
       "  4               100.0  \n",
       "  5               100.0  \n",
       "  6               100.0  \n",
       "  7               100.0  \n",
       "  8               100.0  \n",
       "  9               100.0  },\n",
       " 'info': None,\n",
       " 'events': None,\n",
       " 'events_info': None}"
      ]
     },
     "execution_count": 6,
     "metadata": {},
     "output_type": "execute_result"
    }
   ],
   "source": [
    "recording.__dict__"
   ]
  },
  {
   "cell_type": "markdown",
   "metadata": {},
   "source": [
    "That is a whole lot of output, so let us take a look at the attributes of instance one by one. First, print a list of all available attributes."
   ]
  },
  {
   "cell_type": "code",
   "execution_count": 7,
   "metadata": {},
   "outputs": [
    {
     "name": "stdout",
     "output_type": "stream",
     "text": [
      "dict_keys(['data', 'channels', 'info', 'events', 'events_info'])\n"
     ]
    }
   ],
   "source": [
    "print(recording.__dict__.keys())"
   ]
  },
  {
   "cell_type": "markdown",
   "metadata": {},
   "source": [
    "The contents of any individual attribute can be accessed in two ways, namely via the `__dict__` or with `dot` indexing."
   ]
  },
  {
   "cell_type": "code",
   "execution_count": 8,
   "metadata": {},
   "outputs": [
    {
     "name": "stdout",
     "output_type": "stream",
     "text": [
      "{'SU':         LowerBack_ACCEL_x  LowerBack_ACCEL_y  LowerBack_ACCEL_z  \\\n",
      "0                0.933334           0.084820          -0.302665   \n",
      "1                0.932675           0.084844          -0.300591   \n",
      "2                0.932350           0.082886          -0.310576   \n",
      "3                0.929716           0.081786          -0.303551   \n",
      "4                0.932825           0.077879          -0.308859   \n",
      "...                   ...                ...                ...   \n",
      "693471          -0.192553          -0.016052          -0.984290   \n",
      "693472          -0.189575          -0.016449          -0.988130   \n",
      "693473          -0.191176          -0.017954          -0.983820   \n",
      "693474          -0.189691          -0.014539          -0.986376   \n",
      "693475          -0.192993          -0.015306          -0.989452   \n",
      "\n",
      "        LowerBack_GYRO_x  LowerBack_GYRO_y  LowerBack_GYRO_z  \\\n",
      "0               5.600066          1.120697          0.489152   \n",
      "1               5.440734          1.401663          0.279477   \n",
      "2               5.196312          1.168802          0.435765   \n",
      "3               5.553083          1.116346          0.383447   \n",
      "4               5.437505          0.892803         -0.150115   \n",
      "...                  ...               ...               ...   \n",
      "693471         -0.225874          0.832856          0.704711   \n",
      "693472         -0.393438          0.598116          0.522755   \n",
      "693473         -0.430749          0.417541          0.282336   \n",
      "693474         -0.279277          0.559122          0.418693   \n",
      "693475         -0.563741          0.478618          0.411295   \n",
      "\n",
      "        LowerBack_MAGN_x  LowerBack_MAGN_y  LowerBack_MAGN_z  \\\n",
      "0             -93.972011        -25.023998         44.675028   \n",
      "1             -93.958012        -25.016007         44.610055   \n",
      "2             -93.946010        -25.000014         44.520078   \n",
      "3             -93.938007        -24.980018         44.411097   \n",
      "4             -93.935003        -24.957021         44.287113   \n",
      "...                  ...               ...               ...   \n",
      "693471        -50.718928        -36.997006         34.111960   \n",
      "693472        -50.649929        -37.003005         34.072972   \n",
      "693473        -50.579936        -37.008003         34.044986   \n",
      "693474        -50.515946        -37.011000         34.031004   \n",
      "693475        -50.460961        -37.010996         34.035025   \n",
      "\n",
      "        LowerBack_BARO_n/a  \n",
      "0               990.394600  \n",
      "1               990.395100  \n",
      "2               990.395600  \n",
      "3               990.396199  \n",
      "4               990.396700  \n",
      "...                    ...  \n",
      "693471          990.204600  \n",
      "693472          990.204900  \n",
      "693473          990.205200  \n",
      "693474          990.205500  \n",
      "693475          990.205800  \n",
      "\n",
      "[693476 rows x 10 columns]}\n"
     ]
    }
   ],
   "source": [
    "print(recording.data)  # print(recording.__dict__[\"data\"])"
   ]
  },
  {
   "cell_type": "markdown",
   "metadata": {},
   "source": [
    "We see that that `data` attribute is in the form of a Python `dict`, where the keys correspond to the tracking systems that we have requested when calling the `load_recording()` function. KielMAT is setup so that the keys of the `channels` attribute match with these keys, so that the channel descriptions are availbale per tracking system."
   ]
  },
  {
   "cell_type": "code",
   "execution_count": 9,
   "metadata": {},
   "outputs": [
    {
     "name": "stdout",
     "output_type": "stream",
     "text": [
      "We have the following keys in recording.data: dict_keys(['SU'])\n",
      "We have the same keys in recordings.channels: dict_keys(['SU'])\n"
     ]
    }
   ],
   "source": [
    "print(f\"We have the following keys in recording.data: {recording.data.keys()}\")\n",
    "\n",
    "print(f\"We have the same keys in recordings.channels: {recording.channels.keys()}\")"
   ]
  }
 ],
 "metadata": {
  "kernelspec": {
   "display_name": "kielmat-3JmP5GSQ-py3.10",
   "language": "python",
   "name": "python3"
  },
  "language_info": {
   "codemirror_mode": {
    "name": "ipython",
    "version": 3
   },
   "file_extension": ".py",
   "mimetype": "text/x-python",
   "name": "python",
   "nbconvert_exporter": "python",
   "pygments_lexer": "ipython3",
   "version": "3.10.1"
  }
 },
 "nbformat": 4,
 "nbformat_minor": 2
}
