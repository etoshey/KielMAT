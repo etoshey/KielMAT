{
 "cells": [
  {
   "cell_type": "markdown",
   "metadata": {},
   "source": [
    "# Tutorial: the basics of NGMT\n",
    "\n",
    "**Author:** Robbin Romijnders  \n",
    "**Last update:** Tue 16 Jan 2024\n",
    "\n",
    "## Learning objectives\n",
    "By the end of this tutorial:\n",
    "- you can load data from a recording that belongs to one of the available datasets,\n",
    "- you know which attributes are available for an instance of the `NGMTRecording`\n",
    "- you can do some basic selecting and slicing of data"
   ]
  },
  {
   "cell_type": "markdown",
   "metadata": {},
   "source": [
    "## Introduction\n",
    "In this tutorial we illustrate the basic functionality of the `NGMT` package. We will use some example dataset, that we refer to as the [Mobilise-D](https://https://mobilise-d.eu/) dataset. Mobilise-D was a 5-year, IMI-funded project that produced validated and accepted digital mobility outcomes to monitor daily life gait of people with various mobility problems. The dataset is available for research purposes and can be accessed fetched from their [Zenodo repository](https://zenodo.org/records/7547125). You can also easily fetch the data using the `datasets` submodule of the `NGMT` package:"
   ]
  },
  {
   "cell_type": "code",
   "execution_count": 1,
   "metadata": {},
   "outputs": [],
   "source": [
    "from ngmt.datasets import mobilised"
   ]
  },
  {
   "cell_type": "markdown",
   "metadata": {},
   "source": [
    "## Load a recording"
   ]
  },
  {
   "cell_type": "markdown",
   "metadata": {},
   "source": [
    "This should have downloaded and unzipped the dataset in the `datasets/_mobilised` directory. The dataset contains recordings of six participants, each from a different cohort. Let us go ahead and load a recording from a participant in the dataset."
   ]
  },
  {
   "cell_type": "code",
   "execution_count": 6,
   "metadata": {},
   "outputs": [],
   "source": [
    "import random  # to randomly select a cohort"
   ]
  },
  {
   "cell_type": "code",
   "execution_count": 7,
   "metadata": {},
   "outputs": [
    {
     "name": "stdout",
     "output_type": "stream",
     "text": [
      "Cohort: PFF\n"
     ]
    }
   ],
   "source": [
    "cohorts = {\n",
    "    \"CHF\": \"congestive heart failure\", \n",
    "    \"COPD\": \"chronic obstructive pulmonary disease\", \n",
    "    \"HA\": \"healthy adults\", \n",
    "    \"MS\": \"multiple sclerosis\",\n",
    "    \"PD\": \"Parkinson's disease\",\n",
    "    \"PFF\": \"proximal femoral fracture\",\n",
    "}\n",
    "cohort_oi = random.choice(list(cohorts.keys()))\n",
    "print(f\"Cohort: {cohort_oi}\")"
   ]
  },
  {
   "cell_type": "code",
   "execution_count": 8,
   "metadata": {},
   "outputs": [],
   "source": [
    "recording = mobilised.load_recording(cohort=cohort_oi)"
   ]
  },
  {
   "cell_type": "code",
   "execution_count": 3,
   "metadata": {},
   "outputs": [],
   "source": [
    "# Load the recording\n",
    "recording = mobilised.load_recording()"
   ]
  },
  {
   "cell_type": "code",
   "execution_count": 9,
   "metadata": {},
   "outputs": [
    {
     "name": "stdout",
     "output_type": "stream",
     "text": [
      "<class 'ngmt.utils.ngmt_dataclass.NGMTRecording'>\n"
     ]
    }
   ],
   "source": [
    "print(type(recording))"
   ]
  },
  {
   "cell_type": "markdown",
   "metadata": {},
   "source": [
    "## Inspect the recording"
   ]
  },
  {
   "cell_type": "markdown",
   "metadata": {},
   "source": [
    "The recording has now been loaded into an instance of the `NGMTRecording` class. This class has a number of attributes that are available to the user. Let us go through some of them."
   ]
  },
  {
   "cell_type": "code",
   "execution_count": 10,
   "metadata": {},
   "outputs": [
    {
     "name": "stdout",
     "output_type": "stream",
     "text": [
      "dict_keys(['data', 'channels', 'info', 'events', 'events_info'])\n"
     ]
    }
   ],
   "source": [
    "print(recording.__dict__.keys())"
   ]
  },
  {
   "cell_type": "markdown",
   "metadata": {},
   "source": [
    "### Data"
   ]
  },
  {
   "cell_type": "markdown",
   "metadata": {},
   "source": [
    "That is a whole lot of output, so let us take a look at the attributes of instance one by one. First, print a list of all available attributes."
   ]
  },
  {
   "cell_type": "code",
   "execution_count": 11,
   "metadata": {},
   "outputs": [
    {
     "name": "stdout",
     "output_type": "stream",
     "text": [
      "<class 'dict'>\n"
     ]
    }
   ],
   "source": [
    "print(type(recording.data))"
   ]
  },
  {
   "cell_type": "markdown",
   "metadata": {},
   "source": [
    "The `data` attribute of the recording object is a dict. The keys of the dict are the names of the tracking systems that were used to record the data. The values are a `pandas.DataFrame` for each tracking system. The columns of the `DataFrame` are the different channels that were recorded by the tracking system, e.g., the acceleration in X, Y and Z direction for a low back-worn sensor."
   ]
  },
  {
   "cell_type": "code",
   "execution_count": 15,
   "metadata": {},
   "outputs": [
    {
     "name": "stdout",
     "output_type": "stream",
     "text": [
      "Tracking system: SU\n"
     ]
    },
    {
     "data": {
      "text/html": [
       "<div>\n",
       "<style scoped>\n",
       "    .dataframe tbody tr th:only-of-type {\n",
       "        vertical-align: middle;\n",
       "    }\n",
       "\n",
       "    .dataframe tbody tr th {\n",
       "        vertical-align: top;\n",
       "    }\n",
       "\n",
       "    .dataframe thead th {\n",
       "        text-align: right;\n",
       "    }\n",
       "</style>\n",
       "<table border=\"1\" class=\"dataframe\">\n",
       "  <thead>\n",
       "    <tr style=\"text-align: right;\">\n",
       "      <th></th>\n",
       "      <th>LowerBack_ACCEL_x</th>\n",
       "      <th>LowerBack_ACCEL_y</th>\n",
       "      <th>LowerBack_ACCEL_z</th>\n",
       "      <th>LowerBack_GYRO_x</th>\n",
       "      <th>LowerBack_GYRO_y</th>\n",
       "      <th>LowerBack_GYRO_z</th>\n",
       "      <th>LowerBack_MAGN_x</th>\n",
       "      <th>LowerBack_MAGN_y</th>\n",
       "      <th>LowerBack_MAGN_z</th>\n",
       "      <th>LowerBack_BARO_n/a</th>\n",
       "    </tr>\n",
       "  </thead>\n",
       "  <tbody>\n",
       "    <tr>\n",
       "      <th>0</th>\n",
       "      <td>0.933334</td>\n",
       "      <td>0.084820</td>\n",
       "      <td>-0.302665</td>\n",
       "      <td>5.600066</td>\n",
       "      <td>1.120697</td>\n",
       "      <td>0.489152</td>\n",
       "      <td>-93.972011</td>\n",
       "      <td>-25.023998</td>\n",
       "      <td>44.675028</td>\n",
       "      <td>990.394600</td>\n",
       "    </tr>\n",
       "    <tr>\n",
       "      <th>1</th>\n",
       "      <td>0.932675</td>\n",
       "      <td>0.084844</td>\n",
       "      <td>-0.300591</td>\n",
       "      <td>5.440734</td>\n",
       "      <td>1.401663</td>\n",
       "      <td>0.279477</td>\n",
       "      <td>-93.958012</td>\n",
       "      <td>-25.016007</td>\n",
       "      <td>44.610055</td>\n",
       "      <td>990.395100</td>\n",
       "    </tr>\n",
       "    <tr>\n",
       "      <th>2</th>\n",
       "      <td>0.932350</td>\n",
       "      <td>0.082886</td>\n",
       "      <td>-0.310576</td>\n",
       "      <td>5.196312</td>\n",
       "      <td>1.168802</td>\n",
       "      <td>0.435765</td>\n",
       "      <td>-93.946010</td>\n",
       "      <td>-25.000014</td>\n",
       "      <td>44.520078</td>\n",
       "      <td>990.395600</td>\n",
       "    </tr>\n",
       "    <tr>\n",
       "      <th>3</th>\n",
       "      <td>0.929716</td>\n",
       "      <td>0.081786</td>\n",
       "      <td>-0.303551</td>\n",
       "      <td>5.553083</td>\n",
       "      <td>1.116346</td>\n",
       "      <td>0.383447</td>\n",
       "      <td>-93.938007</td>\n",
       "      <td>-24.980018</td>\n",
       "      <td>44.411097</td>\n",
       "      <td>990.396199</td>\n",
       "    </tr>\n",
       "    <tr>\n",
       "      <th>4</th>\n",
       "      <td>0.932825</td>\n",
       "      <td>0.077879</td>\n",
       "      <td>-0.308859</td>\n",
       "      <td>5.437505</td>\n",
       "      <td>0.892803</td>\n",
       "      <td>-0.150115</td>\n",
       "      <td>-93.935003</td>\n",
       "      <td>-24.957021</td>\n",
       "      <td>44.287113</td>\n",
       "      <td>990.396700</td>\n",
       "    </tr>\n",
       "  </tbody>\n",
       "</table>\n",
       "</div>"
      ],
      "text/plain": [
       "   LowerBack_ACCEL_x  LowerBack_ACCEL_y  LowerBack_ACCEL_z  LowerBack_GYRO_x  \\\n",
       "0           0.933334           0.084820          -0.302665          5.600066   \n",
       "1           0.932675           0.084844          -0.300591          5.440734   \n",
       "2           0.932350           0.082886          -0.310576          5.196312   \n",
       "3           0.929716           0.081786          -0.303551          5.553083   \n",
       "4           0.932825           0.077879          -0.308859          5.437505   \n",
       "\n",
       "   LowerBack_GYRO_y  LowerBack_GYRO_z  LowerBack_MAGN_x  LowerBack_MAGN_y  \\\n",
       "0          1.120697          0.489152        -93.972011        -25.023998   \n",
       "1          1.401663          0.279477        -93.958012        -25.016007   \n",
       "2          1.168802          0.435765        -93.946010        -25.000014   \n",
       "3          1.116346          0.383447        -93.938007        -24.980018   \n",
       "4          0.892803         -0.150115        -93.935003        -24.957021   \n",
       "\n",
       "   LowerBack_MAGN_z  LowerBack_BARO_n/a  \n",
       "0         44.675028          990.394600  \n",
       "1         44.610055          990.395100  \n",
       "2         44.520078          990.395600  \n",
       "3         44.411097          990.396199  \n",
       "4         44.287113          990.396700  "
      ]
     },
     "execution_count": 15,
     "metadata": {},
     "output_type": "execute_result"
    }
   ],
   "source": [
    "for track_sys in list(recording.data.keys()):\n",
    "    print(f\"Tracking system: {track_sys}\")\n",
    "recording.data[track_sys].head()"
   ]
  },
  {
   "cell_type": "markdown",
   "metadata": {},
   "source": [
    "### Channels"
   ]
  },
  {
   "cell_type": "markdown",
   "metadata": {},
   "source": [
    "The `channels` attribute of the recording object is also dict. The keys of the dict are the same names of the tracking systems that were used to record the data. The values are a list of the channels that were recorded by the tracking system with relevant information about the channel, e.g., the unit of the channel and the sampling frequency."
   ]
  },
  {
   "cell_type": "code",
   "execution_count": 16,
   "metadata": {},
   "outputs": [
    {
     "name": "stdout",
     "output_type": "stream",
     "text": [
      "Tracking system: SU\n"
     ]
    },
    {
     "data": {
      "text/html": [
       "<div>\n",
       "<style scoped>\n",
       "    .dataframe tbody tr th:only-of-type {\n",
       "        vertical-align: middle;\n",
       "    }\n",
       "\n",
       "    .dataframe tbody tr th {\n",
       "        vertical-align: top;\n",
       "    }\n",
       "\n",
       "    .dataframe thead th {\n",
       "        text-align: right;\n",
       "    }\n",
       "</style>\n",
       "<table border=\"1\" class=\"dataframe\">\n",
       "  <thead>\n",
       "    <tr style=\"text-align: right;\">\n",
       "      <th></th>\n",
       "      <th>name</th>\n",
       "      <th>component</th>\n",
       "      <th>type</th>\n",
       "      <th>tracked_point</th>\n",
       "      <th>units</th>\n",
       "      <th>sampling_frequency</th>\n",
       "    </tr>\n",
       "  </thead>\n",
       "  <tbody>\n",
       "    <tr>\n",
       "      <th>0</th>\n",
       "      <td>LowerBack_ACCEL_x</td>\n",
       "      <td>x</td>\n",
       "      <td>ACCEL</td>\n",
       "      <td>LowerBack</td>\n",
       "      <td>g</td>\n",
       "      <td>100.0</td>\n",
       "    </tr>\n",
       "    <tr>\n",
       "      <th>1</th>\n",
       "      <td>LowerBack_ACCEL_y</td>\n",
       "      <td>y</td>\n",
       "      <td>ACCEL</td>\n",
       "      <td>LowerBack</td>\n",
       "      <td>g</td>\n",
       "      <td>100.0</td>\n",
       "    </tr>\n",
       "    <tr>\n",
       "      <th>2</th>\n",
       "      <td>LowerBack_ACCEL_z</td>\n",
       "      <td>z</td>\n",
       "      <td>ACCEL</td>\n",
       "      <td>LowerBack</td>\n",
       "      <td>g</td>\n",
       "      <td>100.0</td>\n",
       "    </tr>\n",
       "    <tr>\n",
       "      <th>3</th>\n",
       "      <td>LowerBack_GYRO_x</td>\n",
       "      <td>x</td>\n",
       "      <td>GYRO</td>\n",
       "      <td>LowerBack</td>\n",
       "      <td>deg/s</td>\n",
       "      <td>100.0</td>\n",
       "    </tr>\n",
       "    <tr>\n",
       "      <th>4</th>\n",
       "      <td>LowerBack_GYRO_y</td>\n",
       "      <td>y</td>\n",
       "      <td>GYRO</td>\n",
       "      <td>LowerBack</td>\n",
       "      <td>deg/s</td>\n",
       "      <td>100.0</td>\n",
       "    </tr>\n",
       "  </tbody>\n",
       "</table>\n",
       "</div>"
      ],
      "text/plain": [
       "                name component   type tracked_point  units  sampling_frequency\n",
       "0  LowerBack_ACCEL_x         x  ACCEL     LowerBack      g               100.0\n",
       "1  LowerBack_ACCEL_y         y  ACCEL     LowerBack      g               100.0\n",
       "2  LowerBack_ACCEL_z         z  ACCEL     LowerBack      g               100.0\n",
       "3   LowerBack_GYRO_x         x   GYRO     LowerBack  deg/s               100.0\n",
       "4   LowerBack_GYRO_y         y   GYRO     LowerBack  deg/s               100.0"
      ]
     },
     "execution_count": 16,
     "metadata": {},
     "output_type": "execute_result"
    }
   ],
   "source": [
    "for track_sys in list(recording.channels.keys()):\n",
    "    print(f\"Tracking system: {track_sys}\")\n",
    "recording.channels[track_sys].head()"
   ]
  },
  {
   "cell_type": "markdown",
   "metadata": {},
   "source": [
    "### Other attributes"
   ]
  },
  {
   "cell_type": "markdown",
   "metadata": {},
   "source": [
    "The other attributes of the recording object are the `info`, `events_info`, `events` which generally contain information about the subject, any events that were recorded during the recording, and the events themselves. We will no go into detail about these attributes in this tutorial."
   ]
  },
  {
   "cell_type": "markdown",
   "metadata": {},
   "source": []
  }
 ],
 "metadata": {
  "kernelspec": {
   "display_name": "ngmt-3JmP5GSQ-py3.10",
   "language": "python",
   "name": "python3"
  },
  "language_info": {
   "codemirror_mode": {
    "name": "ipython",
    "version": 3
   },
   "file_extension": ".py",
   "mimetype": "text/x-python",
   "name": "python",
   "nbconvert_exporter": "python",
   "pygments_lexer": "ipython3",
   "version": "3.10.12"
  }
 },
 "nbformat": 4,
 "nbformat_minor": 2
}
