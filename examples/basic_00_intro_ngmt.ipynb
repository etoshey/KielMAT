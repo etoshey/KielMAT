{
 "cells": [
  {
   "cell_type": "markdown",
   "metadata": {},
   "source": [
    "# Tutorial: the basics of NGMT\n",
    "\n",
    "**Author:** Robbin Romijnders  \n",
    "**Last update:** Tue 2 Jul 2024\n",
    "\n",
    "## Learning objectives\n",
    "By the end of this tutorial:\n",
    "- you can load data from a recording that belongs to one of the available datasets,\n",
    "- you know which attributes are available for an instance of the `NGMTRecording`\n",
    "- you can do some basic selecting and slicing of data"
   ]
  },
  {
   "cell_type": "markdown",
   "metadata": {},
   "source": [
    "## Introduction\n",
    "In this tutorial we illustrate the basic functionality of the `NGMT` package. We will use some example dataset, that we refer to as the [Mobilise-D](https://https://mobilise-d.eu/) dataset. Mobilise-D was a 5-year, IMI-funded project that produced validated and accepted digital mobility outcomes to monitor daily life gait of people with various mobility problems. The dataset is available for research purposes and can be accessed fetched from their [Zenodo repository](https://zenodo.org/records/7547125). You can also easily fetch the data using the `datasets` submodule of the `NGMT` package:"
   ]
  },
  {
   "cell_type": "code",
   "execution_count": 1,
   "metadata": {},
   "outputs": [],
   "source": [
    "from ngmt.datasets import mobilised"
   ]
  },
  {
   "cell_type": "markdown",
   "metadata": {},
   "source": [
    "## Load a recording"
   ]
  },
  {
   "cell_type": "markdown",
   "metadata": {},
   "source": [
    "This should have downloaded and unzipped the dataset in the `datasets/_mobilised` directory. The dataset contains recordings of six participants, each from a different cohort. Let us go ahead and load a recording from a participant in the dataset."
   ]
  },
  {
   "cell_type": "code",
   "execution_count": 2,
   "metadata": {},
   "outputs": [],
   "source": [
    "import random  # to randomly select a cohort"
   ]
  },
  {
   "cell_type": "code",
   "execution_count": 3,
   "metadata": {},
   "outputs": [
    {
     "name": "stdout",
     "output_type": "stream",
     "text": [
      "Cohort: MS\n"
     ]
    }
   ],
   "source": [
    "cohorts = {\n",
    "    \"CHF\": \"congestive heart failure\", \n",
    "    \"COPD\": \"chronic obstructive pulmonary disease\", \n",
    "    \"HA\": \"healthy adults\", \n",
    "    \"MS\": \"multiple sclerosis\",\n",
    "    \"PD\": \"Parkinson's disease\",\n",
    "    \"PFF\": \"proximal femoral fracture\",\n",
    "}\n",
    "cohort_oi = random.choice(list(cohorts.keys()))  # set the cohort of interest, randomly\n",
    "print(f\"Cohort: {cohort_oi}\")"
   ]
  },
  {
   "cell_type": "code",
   "execution_count": 4,
   "metadata": {},
   "outputs": [],
   "source": [
    "recording = mobilised.load_recording(cohort=cohort_oi)"
   ]
  },
  {
   "cell_type": "code",
   "execution_count": 5,
   "metadata": {},
   "outputs": [
    {
     "name": "stdout",
     "output_type": "stream",
     "text": [
      "<class 'ngmt.utils.ngmt_dataclass.NGMTRecording'>\n"
     ]
    }
   ],
   "source": [
    "print(type(recording))"
   ]
  },
  {
   "cell_type": "markdown",
   "metadata": {},
   "source": [
    "## Inspect the recording"
   ]
  },
  {
   "cell_type": "markdown",
   "metadata": {},
   "source": [
    "The recording has now been loaded into an instance of the `NGMTRecording` class. This class has a number of attributes that are available to the user. Let us go through some of them."
   ]
  },
  {
   "cell_type": "code",
   "execution_count": 6,
   "metadata": {},
   "outputs": [
    {
     "name": "stdout",
     "output_type": "stream",
     "text": [
      "dict_keys(['data', 'channels', 'info', 'events', 'events_info'])\n"
     ]
    }
   ],
   "source": [
    "print(recording.__dict__.keys())"
   ]
  },
  {
   "cell_type": "markdown",
   "metadata": {},
   "source": [
    "### Data"
   ]
  },
  {
   "cell_type": "markdown",
   "metadata": {},
   "source": [
    "That is a whole lot of output, so let us take a look at the attributes of instance one by one. First, print a list of all available attributes."
   ]
  },
  {
   "cell_type": "code",
   "execution_count": 7,
   "metadata": {},
   "outputs": [
    {
     "name": "stdout",
     "output_type": "stream",
     "text": [
      "<class 'dict'>\n"
     ]
    }
   ],
   "source": [
    "print(type(recording.data))"
   ]
  },
  {
   "cell_type": "markdown",
   "metadata": {},
   "source": [
    "The `data` attribute of the recording object is a dict. The keys of the dict are the names of the tracking systems that were used to record the data. The values are a `pandas.DataFrame` for each tracking system. The columns of the `DataFrame` are the different channels that were recorded by the tracking system, e.g., the acceleration in X, Y and Z direction for a low back-worn sensor."
   ]
  },
  {
   "cell_type": "code",
   "execution_count": 8,
   "metadata": {},
   "outputs": [
    {
     "name": "stdout",
     "output_type": "stream",
     "text": [
      "Tracking system: SU\n"
     ]
    },
    {
     "data": {
      "text/html": [
       "<div>\n",
       "<style scoped>\n",
       "    .dataframe tbody tr th:only-of-type {\n",
       "        vertical-align: middle;\n",
       "    }\n",
       "\n",
       "    .dataframe tbody tr th {\n",
       "        vertical-align: top;\n",
       "    }\n",
       "\n",
       "    .dataframe thead th {\n",
       "        text-align: right;\n",
       "    }\n",
       "</style>\n",
       "<table border=\"1\" class=\"dataframe\">\n",
       "  <thead>\n",
       "    <tr style=\"text-align: right;\">\n",
       "      <th></th>\n",
       "      <th>LowerBack_ACCEL_x</th>\n",
       "      <th>LowerBack_ACCEL_y</th>\n",
       "      <th>LowerBack_ACCEL_z</th>\n",
       "      <th>LowerBack_GYRO_x</th>\n",
       "      <th>LowerBack_GYRO_y</th>\n",
       "      <th>LowerBack_GYRO_z</th>\n",
       "      <th>LowerBack_MAGN_x</th>\n",
       "      <th>LowerBack_MAGN_y</th>\n",
       "      <th>LowerBack_MAGN_z</th>\n",
       "      <th>LowerBack_BARO_n/a</th>\n",
       "    </tr>\n",
       "  </thead>\n",
       "  <tbody>\n",
       "    <tr>\n",
       "      <th>0</th>\n",
       "      <td>0.967142</td>\n",
       "      <td>0.012310</td>\n",
       "      <td>-0.438514</td>\n",
       "      <td>-94.687079</td>\n",
       "      <td>-9.992471</td>\n",
       "      <td>48.940931</td>\n",
       "      <td>4.002005</td>\n",
       "      <td>6.693985</td>\n",
       "      <td>2.476011</td>\n",
       "      <td>1008.4426</td>\n",
       "    </tr>\n",
       "    <tr>\n",
       "      <th>1</th>\n",
       "      <td>0.984155</td>\n",
       "      <td>0.001086</td>\n",
       "      <td>-0.436868</td>\n",
       "      <td>-94.503732</td>\n",
       "      <td>-9.854929</td>\n",
       "      <td>51.771330</td>\n",
       "      <td>3.987006</td>\n",
       "      <td>6.733984</td>\n",
       "      <td>2.448011</td>\n",
       "      <td>1008.4430</td>\n",
       "    </tr>\n",
       "    <tr>\n",
       "      <th>2</th>\n",
       "      <td>0.997616</td>\n",
       "      <td>-0.000890</td>\n",
       "      <td>-0.434983</td>\n",
       "      <td>-94.446387</td>\n",
       "      <td>-8.949983</td>\n",
       "      <td>54.922403</td>\n",
       "      <td>3.971007</td>\n",
       "      <td>6.772984</td>\n",
       "      <td>2.424010</td>\n",
       "      <td>1008.4435</td>\n",
       "    </tr>\n",
       "    <tr>\n",
       "      <th>3</th>\n",
       "      <td>1.007730</td>\n",
       "      <td>0.008019</td>\n",
       "      <td>-0.432298</td>\n",
       "      <td>-94.343276</td>\n",
       "      <td>-8.926693</td>\n",
       "      <td>57.260365</td>\n",
       "      <td>3.955007</td>\n",
       "      <td>6.809984</td>\n",
       "      <td>2.404009</td>\n",
       "      <td>1008.4439</td>\n",
       "    </tr>\n",
       "    <tr>\n",
       "      <th>4</th>\n",
       "      <td>1.007585</td>\n",
       "      <td>0.029307</td>\n",
       "      <td>-0.430775</td>\n",
       "      <td>-94.114154</td>\n",
       "      <td>-9.980435</td>\n",
       "      <td>58.658769</td>\n",
       "      <td>3.937008</td>\n",
       "      <td>6.845983</td>\n",
       "      <td>2.390007</td>\n",
       "      <td>1008.4443</td>\n",
       "    </tr>\n",
       "  </tbody>\n",
       "</table>\n",
       "</div>"
      ],
      "text/plain": [
       "   LowerBack_ACCEL_x  LowerBack_ACCEL_y  LowerBack_ACCEL_z  LowerBack_GYRO_x  \\\n",
       "0           0.967142           0.012310          -0.438514        -94.687079   \n",
       "1           0.984155           0.001086          -0.436868        -94.503732   \n",
       "2           0.997616          -0.000890          -0.434983        -94.446387   \n",
       "3           1.007730           0.008019          -0.432298        -94.343276   \n",
       "4           1.007585           0.029307          -0.430775        -94.114154   \n",
       "\n",
       "   LowerBack_GYRO_y  LowerBack_GYRO_z  LowerBack_MAGN_x  LowerBack_MAGN_y  \\\n",
       "0         -9.992471         48.940931          4.002005          6.693985   \n",
       "1         -9.854929         51.771330          3.987006          6.733984   \n",
       "2         -8.949983         54.922403          3.971007          6.772984   \n",
       "3         -8.926693         57.260365          3.955007          6.809984   \n",
       "4         -9.980435         58.658769          3.937008          6.845983   \n",
       "\n",
       "   LowerBack_MAGN_z  LowerBack_BARO_n/a  \n",
       "0          2.476011           1008.4426  \n",
       "1          2.448011           1008.4430  \n",
       "2          2.424010           1008.4435  \n",
       "3          2.404009           1008.4439  \n",
       "4          2.390007           1008.4443  "
      ]
     },
     "execution_count": 8,
     "metadata": {},
     "output_type": "execute_result"
    }
   ],
   "source": [
    "for track_sys in list(recording.data.keys()):\n",
    "    print(f\"Tracking system: {track_sys}\")\n",
    "recording.data[track_sys].head()"
   ]
  },
  {
   "cell_type": "markdown",
   "metadata": {},
   "source": [
    "### Channels"
   ]
  },
  {
   "cell_type": "markdown",
   "metadata": {},
   "source": [
    "The `channels` attribute of the recording object is also dict. The keys of the dict are the same names of the tracking systems that were used to record the data. The values are a list of the channels that were recorded by the tracking system with relevant information about the channel, e.g., the unit of the channel and the sampling frequency."
   ]
  },
  {
   "cell_type": "code",
   "execution_count": 9,
   "metadata": {},
   "outputs": [
    {
     "name": "stdout",
     "output_type": "stream",
     "text": [
      "Tracking system: SU\n"
     ]
    },
    {
     "data": {
      "text/html": [
       "<div>\n",
       "<style scoped>\n",
       "    .dataframe tbody tr th:only-of-type {\n",
       "        vertical-align: middle;\n",
       "    }\n",
       "\n",
       "    .dataframe tbody tr th {\n",
       "        vertical-align: top;\n",
       "    }\n",
       "\n",
       "    .dataframe thead th {\n",
       "        text-align: right;\n",
       "    }\n",
       "</style>\n",
       "<table border=\"1\" class=\"dataframe\">\n",
       "  <thead>\n",
       "    <tr style=\"text-align: right;\">\n",
       "      <th></th>\n",
       "      <th>name</th>\n",
       "      <th>component</th>\n",
       "      <th>type</th>\n",
       "      <th>tracked_point</th>\n",
       "      <th>units</th>\n",
       "      <th>sampling_frequency</th>\n",
       "    </tr>\n",
       "  </thead>\n",
       "  <tbody>\n",
       "    <tr>\n",
       "      <th>0</th>\n",
       "      <td>LowerBack_ACCEL_x</td>\n",
       "      <td>x</td>\n",
       "      <td>ACCEL</td>\n",
       "      <td>LowerBack</td>\n",
       "      <td>g</td>\n",
       "      <td>100.0</td>\n",
       "    </tr>\n",
       "    <tr>\n",
       "      <th>1</th>\n",
       "      <td>LowerBack_ACCEL_y</td>\n",
       "      <td>y</td>\n",
       "      <td>ACCEL</td>\n",
       "      <td>LowerBack</td>\n",
       "      <td>g</td>\n",
       "      <td>100.0</td>\n",
       "    </tr>\n",
       "    <tr>\n",
       "      <th>2</th>\n",
       "      <td>LowerBack_ACCEL_z</td>\n",
       "      <td>z</td>\n",
       "      <td>ACCEL</td>\n",
       "      <td>LowerBack</td>\n",
       "      <td>g</td>\n",
       "      <td>100.0</td>\n",
       "    </tr>\n",
       "    <tr>\n",
       "      <th>3</th>\n",
       "      <td>LowerBack_GYRO_x</td>\n",
       "      <td>x</td>\n",
       "      <td>GYRO</td>\n",
       "      <td>LowerBack</td>\n",
       "      <td>deg/s</td>\n",
       "      <td>100.0</td>\n",
       "    </tr>\n",
       "    <tr>\n",
       "      <th>4</th>\n",
       "      <td>LowerBack_GYRO_y</td>\n",
       "      <td>y</td>\n",
       "      <td>GYRO</td>\n",
       "      <td>LowerBack</td>\n",
       "      <td>deg/s</td>\n",
       "      <td>100.0</td>\n",
       "    </tr>\n",
       "  </tbody>\n",
       "</table>\n",
       "</div>"
      ],
      "text/plain": [
       "                name component   type tracked_point  units  sampling_frequency\n",
       "0  LowerBack_ACCEL_x         x  ACCEL     LowerBack      g               100.0\n",
       "1  LowerBack_ACCEL_y         y  ACCEL     LowerBack      g               100.0\n",
       "2  LowerBack_ACCEL_z         z  ACCEL     LowerBack      g               100.0\n",
       "3   LowerBack_GYRO_x         x   GYRO     LowerBack  deg/s               100.0\n",
       "4   LowerBack_GYRO_y         y   GYRO     LowerBack  deg/s               100.0"
      ]
     },
     "execution_count": 9,
     "metadata": {},
     "output_type": "execute_result"
    }
   ],
   "source": [
    "for track_sys in list(recording.channels.keys()):\n",
    "    print(f\"Tracking system: {track_sys}\")\n",
    "recording.channels[track_sys].head()"
   ]
  },
  {
   "cell_type": "markdown",
   "metadata": {},
   "source": [
    "### Other attributes"
   ]
  },
  {
   "cell_type": "markdown",
   "metadata": {},
   "source": [
    "The other attributes of the recording object are the `info`, `events_info`, `events` which generally contain information about the subject, any events that were recorded during the recording, and the events themselves. We will no go into detail about these attributes in this tutorial."
   ]
  },
  {
   "cell_type": "markdown",
   "metadata": {},
   "source": []
  }
 ],
 "metadata": {
  "kernelspec": {
   "display_name": "ngmt-3JmP5GSQ-py3.10",
   "language": "python",
   "name": "python3"
  },
  "language_info": {
   "codemirror_mode": {
    "name": "ipython",
    "version": 3
   },
   "file_extension": ".py",
   "mimetype": "text/x-python",
   "name": "python",
   "nbconvert_exporter": "python",
   "pygments_lexer": "ipython3",
   "version": "3.10.12"
  }
 },
 "nbformat": 4,
 "nbformat_minor": 2
}
