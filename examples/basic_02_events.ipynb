{
 "cells": [
  {
   "cell_type": "markdown",
   "metadata": {},
   "source": [
    "# Tutorial: Events in data classes\n",
    "\n",
    "**Author:** Masoud Abedinifar & Julius Welzel\n",
    "\n",
    "**Last update:** Thu 14 Mar 2024\n",
    "\n",
    "## Learning objectives\n",
    "By the end of this tutorial:\n",
    "\n",
    "- Load data from a recording that belongs to one of the available datasets.\n",
    "- Store events from algorithms in the datclass per recording file.\n",
    "- Export [events to BIDS format](https://bids-specification.readthedocs.io/en/stable/modality-specific-files/task-events.html)."
   ]
  },
  {
   "cell_type": "markdown",
   "metadata": {},
   "source": [
    "## Import libraries\n",
    "The necessary libraries such as numpy, matplotlib.pyplot, dataset (mobilised), Paraschiv-Ionescu gait sequence detection, and Paraschiv-Ionescu initial contact detection algorithms are imported from their corresponding modules. Make sure that you have all the required libraries and modules installed before running this code. You also may need to install the 'ngmt' library and its dependencies if you haven't already."
   ]
  },
  {
   "cell_type": "code",
   "execution_count": 2,
   "metadata": {},
   "outputs": [],
   "source": [
    "from ngmt.datasets import mobilised\n",
    "from ngmt.modules.gsd import ParaschivIonescuGaitSequenceDetection"
   ]
  },
  {
   "cell_type": "markdown",
   "metadata": {},
   "source": [
    "First load the data and put in the desired dataclasses."
   ]
  },
  {
   "cell_type": "code",
   "execution_count": 3,
   "metadata": {},
   "outputs": [],
   "source": [
    "# The 'file_path' variable holds the absolute path to the data file\n",
    "file_path = (\n",
    "    r\"..\\examples\\data\\exMobiliseFreeLiving.mat\"\n",
    ")\n",
    "\n",
    "# In this example, we use \"SU\" as tracking_system and \"LowerBack\" as tracked points.\n",
    "tracking_sys = \"SU\"\n",
    "tracked_points = {tracking_sys: [\"LowerBack\"]}\n",
    "\n",
    "# The 'mobilised.load_recording' function is used to load the data from the specified file_path\n",
    "recording = mobilised.load_recording(\n",
    "    file_name=file_path, tracking_systems=[tracking_sys], tracked_points=tracked_points\n",
    ")"
   ]
  },
  {
   "cell_type": "code",
   "execution_count": 4,
   "metadata": {},
   "outputs": [],
   "source": [
    "# Load lower back acceleration data\n",
    "acceleration_data = recording.data[tracking_sys][\n",
    "    [\"LowerBack_ACCEL_x\", \"LowerBack_ACCEL_y\", \"LowerBack_ACCEL_z\"]\n",
    "]"
   ]
  },
  {
   "cell_type": "code",
   "execution_count": 5,
   "metadata": {},
   "outputs": [
    {
     "name": "stdout",
     "output_type": "stream",
     "text": [
      "Sampling frequency: 100.0 Hz\n"
     ]
    }
   ],
   "source": [
    "# Get the corresponding sampling frequency directly from the recording\n",
    "sampling_frequency = recording.channels[tracking_sys][\n",
    "    recording.channels[tracking_sys][\"name\"] == \"LowerBack_ACCEL_x\"\n",
    "][\"sampling_frequency\"].values[0]\n",
    "print(f\"Sampling frequency: {sampling_frequency} Hz\")"
   ]
  },
  {
   "cell_type": "markdown",
   "metadata": {},
   "source": [
    "The events are put into a pandas DataFrame, and follow the conventions outlined in the BIDS documentation (i.e. https://bids-specification.readthedocs.io/en/stable/modality-specific-files/task-events.html)."
   ]
  },
  {
   "cell_type": "markdown",
   "metadata": {},
   "source": [
    "### Gait sequence events in dataclass"
   ]
  },
  {
   "cell_type": "code",
   "execution_count": 7,
   "metadata": {},
   "outputs": [
    {
     "name": "stdout",
     "output_type": "stream",
     "text": [
      "72 gait sequence(s) detected.\n"
     ]
    }
   ],
   "source": [
    "# Create an instance of the ParaschivIonescuGaitSequenceDetection class\n",
    "gsd = ParaschivIonescuGaitSequenceDetection()\n",
    "\n",
    "# Call the gait sequence detection using gsd.detect to detect gait sequences\n",
    "gsd = gsd.detect(\n",
    "    data=acceleration_data, sampling_freq_Hz=sampling_frequency, plot_results=False\n",
    ")"
   ]
  },
  {
   "cell_type": "code",
   "execution_count": 8,
   "metadata": {},
   "outputs": [
    {
     "name": "stdout",
     "output_type": "stream",
     "text": [
      "events: {'SU':         onset  duration     event_type tracking_system\n",
      "0      17.450     6.525  gait sequence            None\n",
      "1      96.500     5.350  gait sequence            None\n",
      "2     145.150     7.500  gait sequence            None\n",
      "3     451.425    21.375  gait sequence            None\n",
      "4     500.700     6.775  gait sequence            None\n",
      "..        ...       ...            ...             ...\n",
      "67   9965.875    10.700  gait sequence            None\n",
      "68  10035.875    11.700  gait sequence            None\n",
      "69  10078.075    18.575  gait sequence            None\n",
      "70  10251.475     8.925  gait sequence            None\n",
      "71  10561.200    11.325  gait sequence            None\n",
      "\n",
      "[72 rows x 4 columns]}\n"
     ]
    }
   ],
   "source": [
    "# Add events to the recording as a dictionary including tracking system and events\n",
    "gait_sequence_events = gsd.gait_sequences_\n",
    "recording.add_events(tracking_system=tracking_sys, new_events=gait_sequence_events)\n",
    "print(f\"events: {recording.events}\")"
   ]
  },
  {
   "cell_type": "markdown",
   "metadata": {},
   "source": [
    "### Store events to events.tsv file following the BIDS convention"
   ]
  },
  {
   "cell_type": "markdown",
   "metadata": {},
   "source": [
    "Add some information about the recording first which is necessary for the BIDS file name convention.\n",
    "NGMT has some implemented check on the information to make sure that the file name is in the correct format."
   ]
  },
  {
   "cell_type": "code",
   "execution_count": 9,
   "metadata": {},
   "outputs": [
    {
     "name": "stdout",
     "output_type": "stream",
     "text": [
      "Warning: The value of the key 'Subject' should be lower case. Converted to lower case.\n",
      "Warning: The value of the key 'Task' should be lower case. Converted to lower case.\n",
      "Warning: The value of the key 'Task' should not contain underscore or space. Removed underscore and space.\n"
     ]
    }
   ],
   "source": [
    "recording.add_info(\"Subject\", \"CHF01\")\n",
    "recording.add_info(\"Task\", \"walking_outside\")"
   ]
  },
  {
   "cell_type": "markdown",
   "metadata": {},
   "source": [
    "Please notice that we a not to strict with the user. We just give a warning if the file name is not in BIDS like format. However, the user can still continue with the process.\n",
    "But you better believe that the BIDS police will come and get you if you don't follow the rules."
   ]
  },
  {
   "cell_type": "markdown",
   "metadata": {},
   "source": [
    "Now as we have the events in the dataclass, we can export them to a [BIDS compatible events](https://bids-specification.readthedocs.io/en/stable/modality-specific-files/task-events.html) file."
   ]
  },
  {
   "cell_type": "code",
   "execution_count": null,
   "metadata": {},
   "outputs": [],
   "source": [
    "recording.export_events(file_path = r'../examples/data', file_name='gait_sequence.csv', bids_compatible=True)"
   ]
  }
 ],
 "metadata": {
  "kernelspec": {
   "display_name": "venv_ngmt",
   "language": "python",
   "name": "python3"
  },
  "language_info": {
   "codemirror_mode": {
    "name": "ipython",
    "version": 3
   },
   "file_extension": ".py",
   "mimetype": "text/x-python",
   "name": "python",
   "nbconvert_exporter": "python",
   "pygments_lexer": "ipython3",
   "version": "3.10.1"
  }
 },
 "nbformat": 4,
 "nbformat_minor": 2
}
