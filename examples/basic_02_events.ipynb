{
 "cells": [
  {
   "cell_type": "markdown",
   "metadata": {},
   "source": [
    "# Tutorial: Events in data classes\n",
    "\n",
    "**Author:** Masoud Abedinifar & Julius Welzel\n",
    "\n",
    "**Last update:** Thu 14 Mar 2024\n",
    "\n",
    "## Learning objectives\n",
    "By the end of this tutorial:\n",
    "\n",
    "- Load data from a recording that belongs to one of the available datasets.\n",
    "- Store events from algorithms in the datclass per recording file.\n",
    "- Export [events to BIDS format](https://bids-specification.readthedocs.io/en/stable/modality-specific-files/task-events.html)."
   ]
  },
  {
   "cell_type": "markdown",
   "metadata": {},
   "source": [
    "## Import libraries\n",
    "The necessary libraries such as numpy, matplotlib.pyplot, dataset (mobilised), Paraschiv-Ionescu gait sequence detection, and Paraschiv-Ionescu initial contact detection algorithms are imported from their corresponding modules. Make sure that you have all the required libraries and modules installed before running this code. You also may need to install the 'kielmat' library and its dependencies if you haven't already."
   ]
  },
  {
   "cell_type": "code",
   "execution_count": 8,
   "metadata": {},
   "outputs": [],
   "source": [
    "from kielmat.datasets import mobilised\n",
    "from kielmat.modules.gsd import ParaschivIonescuGaitSequenceDetection"
   ]
  },
  {
   "cell_type": "markdown",
   "metadata": {},
   "source": [
    "First load the data and put in the desired dataclasses."
   ]
  },
  {
   "cell_type": "code",
   "execution_count": 9,
   "metadata": {},
   "outputs": [],
   "source": [
    "# load the data from mobilised dataset\n",
    "recording = mobilised.load_recording()\n",
    "\n",
    "# specify which tracking system you want to use\n",
    "tracking_sys = 'SU'"
   ]
  },
  {
   "cell_type": "code",
   "execution_count": 10,
   "metadata": {},
   "outputs": [],
   "source": [
    "# Load lower back acceleration data\n",
    "acceleration_data = recording.data[tracking_sys][\n",
    "    [\"LowerBack_ACCEL_x\", \"LowerBack_ACCEL_y\", \"LowerBack_ACCEL_z\"]\n",
    "]"
   ]
  },
  {
   "cell_type": "code",
   "execution_count": 11,
   "metadata": {},
   "outputs": [
    {
     "name": "stdout",
     "output_type": "stream",
     "text": [
      "Sampling frequency: 100.0 Hz\n"
     ]
    }
   ],
   "source": [
    "# Get the corresponding sampling frequency directly from the recording\n",
    "sampling_frequency = recording.channels[tracking_sys][\n",
    "    recording.channels[tracking_sys][\"name\"] == \"LowerBack_ACCEL_x\"\n",
    "][\"sampling_frequency\"].values[0]\n",
    "print(f\"Sampling frequency: {sampling_frequency} Hz\")"
   ]
  },
  {
   "cell_type": "markdown",
   "metadata": {},
   "source": [
    "The events are put into a pandas DataFrame, and follow the conventions outlined in the BIDS documentation (i.e. https://bids-specification.readthedocs.io/en/stable/modality-specific-files/task-events.html)."
   ]
  },
  {
   "cell_type": "markdown",
   "metadata": {},
   "source": [
    "### Gait sequence events in dataclass"
   ]
  },
  {
   "cell_type": "code",
   "execution_count": 12,
   "metadata": {},
   "outputs": [
    {
     "name": "stdout",
     "output_type": "stream",
     "text": [
      "36 gait sequence(s) detected.\n"
     ]
    }
   ],
   "source": [
    "# Create an instance of the ParaschivIonescuGaitSequenceDetection class\n",
    "gsd = ParaschivIonescuGaitSequenceDetection()\n",
    "\n",
    "# Call the gait sequence detection using gsd.detect to detect gait sequences\n",
    "gsd = gsd.detect(\n",
    "    data=acceleration_data, sampling_freq_Hz=sampling_frequency, plot_results=False\n",
    ")"
   ]
  },
  {
   "cell_type": "code",
   "execution_count": 13,
   "metadata": {},
   "outputs": [
    {
     "name": "stdout",
     "output_type": "stream",
     "text": [
      "events: {'SU':        onset  duration     event_type tracking_system\n",
      "0     22.650    17.075  gait sequence            None\n",
      "1     49.150     7.475  gait sequence            None\n",
      "2     97.025   120.400  gait sequence            None\n",
      "3    229.550     9.225  gait sequence            None\n",
      "4    247.900    29.075  gait sequence            None\n",
      "5    296.225   189.600  gait sequence            None\n",
      "6    490.300    25.575  gait sequence            None\n",
      "7    562.925    15.075  gait sequence            None\n",
      "8    581.900    18.875  gait sequence            None\n",
      "9    607.050    56.600  gait sequence            None\n",
      "10   667.325   101.900  gait sequence            None\n",
      "11   784.500    42.775  gait sequence            None\n",
      "12   835.675   174.675  gait sequence            None\n",
      "13  1034.900    42.050  gait sequence            None\n",
      "14  1103.075    39.475  gait sequence            None\n",
      "15  1153.750    13.125  gait sequence            None\n",
      "16  1184.900     5.775  gait sequence            None\n",
      "17  1219.175    21.225  gait sequence            None\n",
      "18  1244.450    40.675  gait sequence            None\n",
      "19  1480.025     5.250  gait sequence            None\n",
      "20  1500.625    47.275  gait sequence            None\n",
      "21  1582.600    13.375  gait sequence            None\n",
      "22  1605.600    10.700  gait sequence            None\n",
      "23  1624.700    36.275  gait sequence            None\n",
      "24  1674.075     6.700  gait sequence            None\n",
      "25  5301.850     9.525  gait sequence            None\n",
      "26  5412.575    10.500  gait sequence            None\n",
      "27  5481.150    12.550  gait sequence            None\n",
      "28  5498.500     6.500  gait sequence            None\n",
      "29  5528.475    23.200  gait sequence            None\n",
      "30  5593.175    39.650  gait sequence            None\n",
      "31  5676.900    13.200  gait sequence            None\n",
      "32  5723.425    32.125  gait sequence            None\n",
      "33  5770.050    13.575  gait sequence            None\n",
      "34  5796.100     6.700  gait sequence            None\n",
      "35  6762.300   125.400  gait sequence            None}\n"
     ]
    }
   ],
   "source": [
    "# Add events to the recording as a dictionary including tracking system and events\n",
    "gait_sequence_events = gsd.gait_sequences_\n",
    "recording.add_events(tracking_system=tracking_sys, new_events=gait_sequence_events)\n",
    "print(f\"events: {recording.events}\")"
   ]
  },
  {
   "cell_type": "markdown",
   "metadata": {},
   "source": [
    "### Store events to events.tsv file following the BIDS convention"
   ]
  },
  {
   "cell_type": "markdown",
   "metadata": {},
   "source": [
    "Add some information about the recording first which is necessary for the BIDS file name convention.\n",
    "KielMAT has some implemented check on the information to make sure that the file name is in the correct format."
   ]
  },
  {
   "cell_type": "code",
   "execution_count": 14,
   "metadata": {},
   "outputs": [
    {
     "name": "stdout",
     "output_type": "stream",
     "text": [
      "Warning: The value of the key 'Subject' should be lower case. Converted to lower case.\n",
      "Warning: The value of the key 'Task' should be lower case. Converted to lower case.\n",
      "Warning: The value of the key 'Task' should not contain underscore or space. Removed underscore and space.\n"
     ]
    }
   ],
   "source": [
    "recording.add_info(\"Subject\", \"CHF01\")\n",
    "recording.add_info(\"Task\", \"walking_outside\")"
   ]
  },
  {
   "cell_type": "markdown",
   "metadata": {},
   "source": [
    "Please notice that we a not to strict with the user. We just give a warning if the file name is not in BIDS like format. However, the user can still continue with the process.\n",
    "But you better believe that the BIDS police will come and get you if you don't follow the rules."
   ]
  },
  {
   "cell_type": "markdown",
   "metadata": {},
   "source": [
    "Now as we have the events in the dataclass, we can export them to a [BIDS compatible events](https://bids-specification.readthedocs.io/en/stable/modality-specific-files/task-events.html) file."
   ]
  },
  {
   "cell_type": "code",
   "execution_count": 17,
   "metadata": {},
   "outputs": [],
   "source": [
    "recording.export_events(file_path = r'../examples/data', file_name='gait_sequence.csv')"
   ]
  }
 ],
 "metadata": {
  "kernelspec": {
   "display_name": "venv_kielmat",
   "language": "python",
   "name": "python3"
  },
  "language_info": {
   "codemirror_mode": {
    "name": "ipython",
    "version": 3
   },
   "file_extension": ".py",
   "mimetype": "text/x-python",
   "name": "python",
   "nbconvert_exporter": "python",
   "pygments_lexer": "ipython3",
   "version": "3.10.1"
  }
 },
 "nbformat": 4,
 "nbformat_minor": 2
}
