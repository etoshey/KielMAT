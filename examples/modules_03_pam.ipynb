{
 "cells": [
  {
   "cell_type": "markdown",
   "metadata": {},
   "source": [
    "# Tutorial: Physical Activity Monitoring\n",
    "\n",
    "**Author:** Julius Welzel\n",
    "\n",
    "**Last update:** Thu 04 Apr 2024\n",
    "\n",
    "## Learning objectives  \n",
    "By the end of this tutorial, you will be able to:  \n",
    "\n",
    "- Load accelerometer data from a raw recording\n",
    "- Apply the Physical Activity Monitoring algorithm to classify activity intensity levels.  \n",
    "- Interpret the results of activity classification.  \n",
    "- Visualize the activity intensity levels over time. "
   ]
  },
  {
   "cell_type": "markdown",
   "metadata": {},
   "source": [
    "# Pam Physical Activity Monitoring\n",
    "\n",
    "This example serves as a reference on how to use the physical activity monitoring algorithm. This example can be cited by referencing the package.\n",
    "\n",
    "The example illustrates how the physical activity monitoring algorithm determines the intensity level of sedentary, light, moderate, and vigorous physical activities using body acceleration recorded with a triaxial accelerometer worn on the wrist. The physical activity monitoring algorithm is implemented in the main module [`ngmt.modules.pam._pam`](https://github.com/neurogeriatricskiel/NGMT/tree/main/ngmt/modules/pam/_pam.py).\n",
    "\n",
    "The algorithm determines the intensity level of physical activities based on the following steps:\n",
    "\n",
    "1. **Loading Data:** Start by loading the data, including a time index along with accelerometer data (N, 3) for x, y, and z axes. The other inputs are the sampling frequency of the data (sampling_freq_Hz), defaulting to 100 Hz, and thresholds (thresholds_mg), provided as a dictionary containing threshold values for physical activity detection in mg unit. Another input is the epoch duration (epoch_duration_sec) in seconds, defaulting to 5 seconds. The last input, plot_results, when set to True, generates a plot showing the average Euclidean Norm Minus One (ENMO) per hour for each date, with a default of True.\n",
    "\n",
    "2. **Preprocessing:** The input signal is preprocessed by calculating the sample-level Euclidean norm (EN) of the acceleration signal across the x, y, and z axes. A fourth-order Butterworth low-pass filter with a cut-off frequency of 20Hz is then applied to remove noise. This filter is applied to the vector magnitude scores. The ENMO index is calculated to separate the activity-related component of the acceleration signal. Negative ENMO values are truncated to zero. Finally, the indices are multiplied by 1000 to convert units from g to mg.\n",
    "\n",
    "3. **Classification:** The algorithm classifies the intensity of physical activities based on the calculated ENMO values. The activity_classification function expresses the ENMO time-series data in 5-second epochs for summarizing the data. Thresholds for categorization are as follows: sedentary activity < 45 mg, light activity 45–100 mg, moderate activity 100–400 mg, vigorous activity > 400 mg.\n",
    "\n",
    "4. **Results:** The algorithm classifies different levels of activities along with the time spent on each activity level for each day. If `plot_results` is set to True, the function generates a plot showing the averaged ENMO values for each day.\n",
    "\n",
    "#### References\n",
    "[`1`] Doherty, Aiden, et al. (2017). Large scale population assessment of physical activity using wrist-worn accelerometers: the UK biobank study. PloS one 12.2. [https://doi.org/10.1371/journal.pone.0169649](https://doi.org/10.1371/journal.pone.0169649)\n",
    "\n",
    "[`2`] Van Hees, Vincent T., et al. (2013). Separating movement and gravity components in an acceleration signal and implications for the assessment of human daily physical activity. PloS one 8.4. [https://doi.org/10.1371/journal.pone.0061691](https://doi.org/10.1371/journal.pone.0061691)\n"
   ]
  },
  {
   "cell_type": "markdown",
   "metadata": {},
   "source": [
    "## Import Libraries\n",
    "The necessary libraries such as pandas, physical activity monitoring and fairpark data loader are imported. Make sure that you have all the required libraries and modules installed before running this code. You may also need to install the `ngmt` library and its dependencies if you haven't already.\n"
   ]
  },
  {
   "cell_type": "code",
   "execution_count": 8,
   "metadata": {},
   "outputs": [],
   "source": [
    "import pandas as pd\n",
    "import os\n",
    "from pathlib import Path\n",
    "pd.options.mode.chained_assignment = None\n",
    "import matplotlib.pyplot as plt\n",
    "import matplotlib.dates as mdates\n",
    "from ngmt.modules.pam import PhysicalActivityMonitoring\n",
    "from ngmt.utils.ngmt_dataclass import NGMTRecording # Import the NGMTRecording class\n",
    "from ngmt.config import cfg_colors"
   ]
  },
  {
   "cell_type": "markdown",
   "metadata": {},
   "source": [
    "## Data Preparation\n",
    "\n",
    "To implement the physical activity monitoring algorithm, we load example data from a participant who has worn a wrist IMU sensor for several hours during a day while performing daily life activities at home.\n",
    "\n",
    "The data, including a time index and accelerometer data (N, 3) for the x, y, and z axes, is loaded as a pandas DataFrame."
   ]
  },
  {
   "cell_type": "code",
   "execution_count": 12,
   "metadata": {},
   "outputs": [
    {
     "name": "stdout",
     "output_type": "stream",
     "text": [
      "Minutes of data: 18.33\n"
     ]
    }
   ],
   "source": [
    "# The 'file_path' variable holds the absolute path to the data file\n",
    "file_path = r\".\\data\\exAccelDataMobilise.csv\"\n",
    "\n",
    "# Set the filepath\n",
    "file_path = Path(os.getcwd()).parent.joinpath(\"examples\",\"data\",\"exAccelDataMobilise.csv\")\n",
    "\n",
    "# read the csv data\n",
    "acc_data = pd.read_csv(file_path)\n",
    "\n",
    "# specifiy the sampling rate\n",
    "fs = 100 # Hz\n",
    "\n",
    "n_channels = acc_data.shape[1]\n",
    "n_samples = acc_data.shape[0]\n",
    "\n",
    "# check how many minutes of data we have\n",
    "n_minutes = n_samples/fs/60\n",
    "print(f\"Minutes of data: {n_minutes:.2f}\")\n"
   ]
  },
  {
   "cell_type": "code",
   "execution_count": 10,
   "metadata": {},
   "outputs": [],
   "source": [
    "# construct the channel information\n",
    "\n",
    "tracked_point = \"lowerBack\"\n",
    "\n",
    "n_channels = acc_data.shape[1] # second dimension of the data represents the number of channels\n",
    "\n",
    "col_names = [\n",
    "    f\"{tracked_point}_{s}_{x}\"\n",
    "    for s in [\"ACCEL\"]\n",
    "    for x in [\"x\", \"y\", \"z\"]\n",
    "]\n",
    "\n",
    "# Make the channel dictionary following the BIDS naming conventions\n",
    "channels_dict = {\n",
    "    \"name\": col_names,\n",
    "    \"component\": [\"x\", \"y\", \"z\"] * (n_channels // 3),\n",
    "    \"type\": [\"ACCEL\"] * (n_channels),\n",
    "    \"tracked_point\": [tracked_point] * n_channels,\n",
    "    \"units\": [\"m/s^2\"] * n_channels,\n",
    "    \"sampling_frequency\": [fs] * n_channels,\n",
    "}\n",
    "\n",
    "recording =  NGMTRecording(\n",
    "    data={\"lb_imu\": acc_data}, channels={\"lb_imu\": pd.DataFrame(channels_dict)}\n",
    ")"
   ]
  },
  {
   "cell_type": "markdown",
   "metadata": {},
   "source": [
    "## Apply Physical Activity Monitoring Algorithm\n",
    "Now, we are running the physical activity monitoring algorithm from the main module [`ngmt.modules.pam._pam`](https://github.com/neurogeriatricskiel/NGMT/tree/main/ngmt/modules/pam/_pam.py). The inputs of the algorithm are as follows:\n",
    "\n",
    "- **Input Data:** `data` Includes data with a time index along with accelerometer data (N, 3) for x, y, and z axes in pandas Dataframe format.\n",
    "- **Acceleration Unit:** `acceleration_unit` is the unit of the acceleration data.\n",
    "- **Sampling Frequency:** `sampling_freq_Hz` is the sampling frequency of the acceleration data, defined in Hz, with a default value of 100 Hz.\n",
    "- **Thresholds:** `thresholds_mg` are provided as a dictionary containing threshold values for physical activity detection in mili-g.\n",
    "- **Epoch Duration:** `epoch_duration_sec` is the epoch length in seconds, with a default value of 5 seconds.\n",
    "- **Plot Results:** `plot_results`, if set to True, generates a plot showing the average Euclidean Norm Minus One (ENMO) per hour for each day. The default is True.\n",
    "\n",
    "To apply the physical activity monitoring algorithm, an instance of the PhysicalActivityMonitoring class is created using the constructor, `PhysicalActivityMonitoring()`. The `pam` variable holds the instance, allowing us to access its methods. The output of the algorithm includes information regarding physical activity levels and the time spent on each activity for the provided date, including the mean of sedentary time, light, moderate, and vigorous activities, along with the time spent for each of them."
   ]
  },
  {
   "cell_type": "code",
   "execution_count": 11,
   "metadata": {},
   "outputs": [
    {
     "ename": "ValueError",
     "evalue": "Index column must be a datetime index.",
     "output_type": "error",
     "traceback": [
      "\u001b[1;31m---------------------------------------------------------------------------\u001b[0m",
      "\u001b[1;31mValueError\u001b[0m                                Traceback (most recent call last)",
      "Cell \u001b[1;32mIn[11], line 5\u001b[0m\n\u001b[0;32m      2\u001b[0m pam \u001b[38;5;241m=\u001b[39m PhysicalActivityMonitoring()\n\u001b[0;32m      4\u001b[0m \u001b[38;5;66;03m# Call phyisical activity monitoring using pam.detect\u001b[39;00m\n\u001b[1;32m----> 5\u001b[0m pam \u001b[38;5;241m=\u001b[39m \u001b[43mpam\u001b[49m\u001b[38;5;241;43m.\u001b[39;49m\u001b[43mdetect\u001b[49m\u001b[43m(\u001b[49m\n\u001b[0;32m      6\u001b[0m \u001b[43m    \u001b[49m\u001b[43mdata\u001b[49m\u001b[38;5;241;43m=\u001b[39;49m\u001b[43mrecording\u001b[49m\u001b[38;5;241;43m.\u001b[39;49m\u001b[43mdata\u001b[49m\u001b[43m[\u001b[49m\u001b[38;5;124;43m\"\u001b[39;49m\u001b[38;5;124;43mlb_imu\u001b[39;49m\u001b[38;5;124;43m\"\u001b[39;49m\u001b[43m]\u001b[49m\u001b[43m,\u001b[49m\n\u001b[0;32m      7\u001b[0m \u001b[43m    \u001b[49m\u001b[43macceleration_unit\u001b[49m\u001b[38;5;241;43m=\u001b[39;49m\u001b[43mrecording\u001b[49m\u001b[38;5;241;43m.\u001b[39;49m\u001b[43mchannels\u001b[49m\u001b[43m[\u001b[49m\u001b[38;5;124;43m'\u001b[39;49m\u001b[38;5;124;43mlb_imu\u001b[39;49m\u001b[38;5;124;43m'\u001b[39;49m\u001b[43m]\u001b[49m\u001b[43m[\u001b[49m\u001b[38;5;124;43m'\u001b[39;49m\u001b[38;5;124;43munits\u001b[39;49m\u001b[38;5;124;43m'\u001b[39;49m\u001b[43m]\u001b[49m\u001b[43m[\u001b[49m\u001b[38;5;241;43m0\u001b[39;49m\u001b[43m]\u001b[49m\u001b[43m,\u001b[49m\n\u001b[0;32m      8\u001b[0m \u001b[43m    \u001b[49m\u001b[43msampling_freq_Hz\u001b[49m\u001b[38;5;241;43m=\u001b[39;49m\u001b[43mfs\u001b[49m\u001b[43m,\u001b[49m\n\u001b[0;32m      9\u001b[0m \u001b[43m    \u001b[49m\u001b[43mthresholds_mg\u001b[49m\u001b[38;5;241;43m=\u001b[39;49m\u001b[43m{\u001b[49m\n\u001b[0;32m     10\u001b[0m \u001b[43m        \u001b[49m\u001b[38;5;124;43m\"\u001b[39;49m\u001b[38;5;124;43msedentary_threshold\u001b[39;49m\u001b[38;5;124;43m\"\u001b[39;49m\u001b[43m:\u001b[49m\u001b[43m \u001b[49m\u001b[38;5;241;43m45\u001b[39;49m\u001b[43m,\u001b[49m\n\u001b[0;32m     11\u001b[0m \u001b[43m        \u001b[49m\u001b[38;5;124;43m\"\u001b[39;49m\u001b[38;5;124;43mlight_threshold\u001b[39;49m\u001b[38;5;124;43m\"\u001b[39;49m\u001b[43m:\u001b[49m\u001b[43m \u001b[49m\u001b[38;5;241;43m100\u001b[39;49m\u001b[43m,\u001b[49m\n\u001b[0;32m     12\u001b[0m \u001b[43m        \u001b[49m\u001b[38;5;124;43m\"\u001b[39;49m\u001b[38;5;124;43mmoderate_threshold\u001b[39;49m\u001b[38;5;124;43m\"\u001b[39;49m\u001b[43m:\u001b[49m\u001b[43m \u001b[49m\u001b[38;5;241;43m400\u001b[39;49m\u001b[43m,\u001b[49m\n\u001b[0;32m     13\u001b[0m \u001b[43m    \u001b[49m\u001b[43m}\u001b[49m\u001b[43m,\u001b[49m\n\u001b[0;32m     14\u001b[0m \u001b[43m    \u001b[49m\u001b[43mepoch_duration_sec\u001b[49m\u001b[38;5;241;43m=\u001b[39;49m\u001b[38;5;241;43m5\u001b[39;49m\u001b[43m,\u001b[49m\n\u001b[0;32m     15\u001b[0m \u001b[43m    \u001b[49m\u001b[43mplot\u001b[49m\u001b[38;5;241;43m=\u001b[39;49m\u001b[38;5;28;43;01mTrue\u001b[39;49;00m\u001b[43m,\u001b[49m\n\u001b[0;32m     16\u001b[0m \u001b[43m)\u001b[49m\n\u001b[0;32m     18\u001b[0m \u001b[38;5;66;03m# Phyisical activity information are stored in physical_activities_ attribute of pam\u001b[39;00m\n\u001b[0;32m     19\u001b[0m physical_activities \u001b[38;5;241m=\u001b[39m pam\u001b[38;5;241m.\u001b[39mphysical_activities_\n",
      "File \u001b[1;32m~\\Desktop\\kiel\\NGMT\\ngmt\\modules\\pam\\_pam.py:109\u001b[0m, in \u001b[0;36mPhysicalActivityMonitoring.detect\u001b[1;34m(self, data, acceleration_unit, sampling_freq_Hz, thresholds_mg, epoch_duration_sec, plot)\u001b[0m\n\u001b[0;32m    107\u001b[0m \u001b[38;5;66;03m# check if index column is datetime\u001b[39;00m\n\u001b[0;32m    108\u001b[0m \u001b[38;5;28;01mif\u001b[39;00m \u001b[38;5;129;01mnot\u001b[39;00m \u001b[38;5;28misinstance\u001b[39m(data\u001b[38;5;241m.\u001b[39mindex, pd\u001b[38;5;241m.\u001b[39mDatetimeIndex):\n\u001b[1;32m--> 109\u001b[0m     \u001b[38;5;28;01mraise\u001b[39;00m \u001b[38;5;167;01mValueError\u001b[39;00m(\u001b[38;5;124m\"\u001b[39m\u001b[38;5;124mIndex column must be a datetime index.\u001b[39m\u001b[38;5;124m\"\u001b[39m)\n\u001b[0;32m    111\u001b[0m \u001b[38;5;66;03m# check if index column in named timestamp\u001b[39;00m\n\u001b[0;32m    112\u001b[0m \u001b[38;5;28;01mif\u001b[39;00m data\u001b[38;5;241m.\u001b[39mindex\u001b[38;5;241m.\u001b[39mname \u001b[38;5;241m!=\u001b[39m \u001b[38;5;124m\"\u001b[39m\u001b[38;5;124mtimestamp\u001b[39m\u001b[38;5;124m\"\u001b[39m:\n",
      "\u001b[1;31mValueError\u001b[0m: Index column must be a datetime index."
     ]
    }
   ],
   "source": [
    "# Create an instance of the PhysicalActivityMonitoring class\n",
    "pam = PhysicalActivityMonitoring()\n",
    "\n",
    "# Call phyisical activity monitoring using pam.detect\n",
    "pam = pam.detect(\n",
    "    data=recording.data[\"lb_imu\"],\n",
    "    acceleration_unit=recording.channels['lb_imu']['units'][0],\n",
    "    sampling_freq_Hz=fs,\n",
    "    thresholds_mg={\n",
    "        \"sedentary_threshold\": 45,\n",
    "        \"light_threshold\": 100,\n",
    "        \"moderate_threshold\": 400,\n",
    "    },\n",
    "    epoch_duration_sec=5,\n",
    "    plot=True,\n",
    ")\n",
    "\n",
    "# Phyisical activity information are stored in physical_activities_ attribute of pam\n",
    "physical_activities = pam.physical_activities_\n",
    "\n",
    "# Print daily phyisical activity information\n",
    "print(\"Physical Activities:\", physical_activities)"
   ]
  },
  {
   "cell_type": "code",
   "execution_count": null,
   "metadata": {},
   "outputs": [
    {
     "data": {
      "text/plain": [
       "{'lb_imu':                 name component   type tracked_point  units  sampling_frequency\n",
       " 0  lowerBack_ACCEL_x         x  ACCEL     lowerBack  m/s^2                 100\n",
       " 1  lowerBack_ACCEL_y         y  ACCEL     lowerBack  m/s^2                 100\n",
       " 2  lowerBack_ACCEL_z         z  ACCEL     lowerBack  m/s^2                 100}"
      ]
     },
     "execution_count": 7,
     "metadata": {},
     "output_type": "execute_result"
    }
   ],
   "source": [
    "recording.channels"
   ]
  }
 ],
 "metadata": {
  "kernelspec": {
   "display_name": "venv_ngmt",
   "language": "python",
   "name": "python3"
  },
  "language_info": {
   "codemirror_mode": {
    "name": "ipython",
    "version": 3
   },
   "file_extension": ".py",
   "mimetype": "text/x-python",
   "name": "python",
   "nbconvert_exporter": "python",
   "pygments_lexer": "ipython3",
   "version": "3.10.1"
  }
 },
 "nbformat": 4,
 "nbformat_minor": 2
}
